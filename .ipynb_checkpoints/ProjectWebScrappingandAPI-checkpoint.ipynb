{
 "cells": [
  {
   "cell_type": "markdown",
   "id": "302d5760-9cb3-4e83-a76d-d0f4c0a2fe59",
   "metadata": {},
   "source": [
    "## Project 2"
   ]
  },
  {
   "cell_type": "code",
   "execution_count": 1,
   "id": "af6b875c-e687-4612-9312-082e8154948f",
   "metadata": {},
   "outputs": [],
   "source": [
    "url = 'https://rickandmortyapi.com/api'\n",
    "\n",
    "import json\n",
    "import requests\n",
    "import pandas as pd\n",
    "from pandas.io.json import json_normalize"
   ]
  },
  {
   "cell_type": "code",
   "execution_count": 2,
   "id": "9cab46d4-e180-4bf0-9b52-10089e3cb428",
   "metadata": {},
   "outputs": [
    {
     "name": "stderr",
     "output_type": "stream",
     "text": [
      "/var/folders/gy/z7r47gln14z4xv65_9682djc0000gn/T/ipykernel_1298/3022653263.py:6: FutureWarning: pandas.io.json.json_normalize is deprecated, use pandas.json_normalize instead.\n",
      "  flattened_data = json_normalize(results)\n"
     ]
    },
    {
     "data": {
      "text/html": [
       "<div>\n",
       "<style scoped>\n",
       "    .dataframe tbody tr th:only-of-type {\n",
       "        vertical-align: middle;\n",
       "    }\n",
       "\n",
       "    .dataframe tbody tr th {\n",
       "        vertical-align: top;\n",
       "    }\n",
       "\n",
       "    .dataframe thead th {\n",
       "        text-align: right;\n",
       "    }\n",
       "</style>\n",
       "<table border=\"1\" class=\"dataframe\">\n",
       "  <thead>\n",
       "    <tr style=\"text-align: right;\">\n",
       "      <th></th>\n",
       "      <th>characters</th>\n",
       "      <th>locations</th>\n",
       "      <th>episodes</th>\n",
       "    </tr>\n",
       "  </thead>\n",
       "  <tbody>\n",
       "    <tr>\n",
       "      <th>0</th>\n",
       "      <td>https://rickandmortyapi.com/api/character</td>\n",
       "      <td>https://rickandmortyapi.com/api/location</td>\n",
       "      <td>https://rickandmortyapi.com/api/episode</td>\n",
       "    </tr>\n",
       "  </tbody>\n",
       "</table>\n",
       "</div>"
      ],
      "text/plain": [
       "                                  characters  \\\n",
       "0  https://rickandmortyapi.com/api/character   \n",
       "\n",
       "                                  locations  \\\n",
       "0  https://rickandmortyapi.com/api/location   \n",
       "\n",
       "                                  episodes  \n",
       "0  https://rickandmortyapi.com/api/episode  "
      ]
     },
     "execution_count": 2,
     "metadata": {},
     "output_type": "execute_result"
    }
   ],
   "source": [
    "response = requests.get(url)\n",
    "results = response.json()\n",
    "results\n",
    "\n",
    "\n",
    "flattened_data = json_normalize(results)\n",
    "flattened_data"
   ]
  },
  {
   "cell_type": "code",
   "execution_count": 3,
   "id": "d5e23616-e372-4e9f-a1ca-079cbe636d5d",
   "metadata": {},
   "outputs": [
    {
     "name": "stderr",
     "output_type": "stream",
     "text": [
      "/var/folders/gy/z7r47gln14z4xv65_9682djc0000gn/T/ipykernel_1298/1945105608.py:1: FutureWarning: pandas.io.json.json_normalize is deprecated, use pandas.json_normalize instead.\n",
      "  json_normalize(results)\n"
     ]
    },
    {
     "data": {
      "text/html": [
       "<div>\n",
       "<style scoped>\n",
       "    .dataframe tbody tr th:only-of-type {\n",
       "        vertical-align: middle;\n",
       "    }\n",
       "\n",
       "    .dataframe tbody tr th {\n",
       "        vertical-align: top;\n",
       "    }\n",
       "\n",
       "    .dataframe thead th {\n",
       "        text-align: right;\n",
       "    }\n",
       "</style>\n",
       "<table border=\"1\" class=\"dataframe\">\n",
       "  <thead>\n",
       "    <tr style=\"text-align: right;\">\n",
       "      <th></th>\n",
       "      <th>characters</th>\n",
       "      <th>locations</th>\n",
       "      <th>episodes</th>\n",
       "    </tr>\n",
       "  </thead>\n",
       "  <tbody>\n",
       "    <tr>\n",
       "      <th>0</th>\n",
       "      <td>https://rickandmortyapi.com/api/character</td>\n",
       "      <td>https://rickandmortyapi.com/api/location</td>\n",
       "      <td>https://rickandmortyapi.com/api/episode</td>\n",
       "    </tr>\n",
       "  </tbody>\n",
       "</table>\n",
       "</div>"
      ],
      "text/plain": [
       "                                  characters  \\\n",
       "0  https://rickandmortyapi.com/api/character   \n",
       "\n",
       "                                  locations  \\\n",
       "0  https://rickandmortyapi.com/api/location   \n",
       "\n",
       "                                  episodes  \n",
       "0  https://rickandmortyapi.com/api/episode  "
      ]
     },
     "execution_count": 3,
     "metadata": {},
     "output_type": "execute_result"
    }
   ],
   "source": [
    "json_normalize(results)"
   ]
  },
  {
   "cell_type": "code",
   "execution_count": 11,
   "id": "3c09097d-4454-4528-b532-eebdcbaad068",
   "metadata": {},
   "outputs": [],
   "source": [
    "url2 = 'https://rickandmortyapi.com/api/episode'\n",
    "response = requests.get(url2)\n",
    "results2 = response.json()"
   ]
  },
  {
   "cell_type": "code",
   "execution_count": 13,
   "id": "2b8167de-f92a-48a5-bdd4-7c0707921192",
   "metadata": {},
   "outputs": [
    {
     "name": "stderr",
     "output_type": "stream",
     "text": [
      "/var/folders/gy/z7r47gln14z4xv65_9682djc0000gn/T/ipykernel_1298/220523009.py:1: FutureWarning: pandas.io.json.json_normalize is deprecated, use pandas.json_normalize instead.\n",
      "  flattened_data = json_normalize(results2)\n",
      "/var/folders/gy/z7r47gln14z4xv65_9682djc0000gn/T/ipykernel_1298/220523009.py:3: FutureWarning: pandas.io.json.json_normalize is deprecated, use pandas.json_normalize instead.\n",
      "  flattened_data1 = json_normalize(flattened_data.results[0])\n"
     ]
    },
    {
     "data": {
      "text/html": [
       "<div>\n",
       "<style scoped>\n",
       "    .dataframe tbody tr th:only-of-type {\n",
       "        vertical-align: middle;\n",
       "    }\n",
       "\n",
       "    .dataframe tbody tr th {\n",
       "        vertical-align: top;\n",
       "    }\n",
       "\n",
       "    .dataframe thead th {\n",
       "        text-align: right;\n",
       "    }\n",
       "</style>\n",
       "<table border=\"1\" class=\"dataframe\">\n",
       "  <thead>\n",
       "    <tr style=\"text-align: right;\">\n",
       "      <th></th>\n",
       "      <th>id</th>\n",
       "      <th>name</th>\n",
       "      <th>air_date</th>\n",
       "      <th>episode</th>\n",
       "      <th>characters</th>\n",
       "      <th>url</th>\n",
       "      <th>created</th>\n",
       "    </tr>\n",
       "  </thead>\n",
       "  <tbody>\n",
       "    <tr>\n",
       "      <th>0</th>\n",
       "      <td>1</td>\n",
       "      <td>Pilot</td>\n",
       "      <td>December 2, 2013</td>\n",
       "      <td>S01E01</td>\n",
       "      <td>[https://rickandmortyapi.com/api/character/1, ...</td>\n",
       "      <td>https://rickandmortyapi.com/api/episode/1</td>\n",
       "      <td>2017-11-10T12:56:33.798Z</td>\n",
       "    </tr>\n",
       "    <tr>\n",
       "      <th>1</th>\n",
       "      <td>2</td>\n",
       "      <td>Lawnmower Dog</td>\n",
       "      <td>December 9, 2013</td>\n",
       "      <td>S01E02</td>\n",
       "      <td>[https://rickandmortyapi.com/api/character/1, ...</td>\n",
       "      <td>https://rickandmortyapi.com/api/episode/2</td>\n",
       "      <td>2017-11-10T12:56:33.916Z</td>\n",
       "    </tr>\n",
       "    <tr>\n",
       "      <th>2</th>\n",
       "      <td>3</td>\n",
       "      <td>Anatomy Park</td>\n",
       "      <td>December 16, 2013</td>\n",
       "      <td>S01E03</td>\n",
       "      <td>[https://rickandmortyapi.com/api/character/1, ...</td>\n",
       "      <td>https://rickandmortyapi.com/api/episode/3</td>\n",
       "      <td>2017-11-10T12:56:34.022Z</td>\n",
       "    </tr>\n",
       "    <tr>\n",
       "      <th>3</th>\n",
       "      <td>4</td>\n",
       "      <td>M. Night Shaym-Aliens!</td>\n",
       "      <td>January 13, 2014</td>\n",
       "      <td>S01E04</td>\n",
       "      <td>[https://rickandmortyapi.com/api/character/1, ...</td>\n",
       "      <td>https://rickandmortyapi.com/api/episode/4</td>\n",
       "      <td>2017-11-10T12:56:34.129Z</td>\n",
       "    </tr>\n",
       "    <tr>\n",
       "      <th>4</th>\n",
       "      <td>5</td>\n",
       "      <td>Meeseeks and Destroy</td>\n",
       "      <td>January 20, 2014</td>\n",
       "      <td>S01E05</td>\n",
       "      <td>[https://rickandmortyapi.com/api/character/1, ...</td>\n",
       "      <td>https://rickandmortyapi.com/api/episode/5</td>\n",
       "      <td>2017-11-10T12:56:34.236Z</td>\n",
       "    </tr>\n",
       "  </tbody>\n",
       "</table>\n",
       "</div>"
      ],
      "text/plain": [
       "   id                    name           air_date episode  \\\n",
       "0   1                   Pilot   December 2, 2013  S01E01   \n",
       "1   2           Lawnmower Dog   December 9, 2013  S01E02   \n",
       "2   3            Anatomy Park  December 16, 2013  S01E03   \n",
       "3   4  M. Night Shaym-Aliens!   January 13, 2014  S01E04   \n",
       "4   5    Meeseeks and Destroy   January 20, 2014  S01E05   \n",
       "\n",
       "                                          characters  \\\n",
       "0  [https://rickandmortyapi.com/api/character/1, ...   \n",
       "1  [https://rickandmortyapi.com/api/character/1, ...   \n",
       "2  [https://rickandmortyapi.com/api/character/1, ...   \n",
       "3  [https://rickandmortyapi.com/api/character/1, ...   \n",
       "4  [https://rickandmortyapi.com/api/character/1, ...   \n",
       "\n",
       "                                         url                   created  \n",
       "0  https://rickandmortyapi.com/api/episode/1  2017-11-10T12:56:33.798Z  \n",
       "1  https://rickandmortyapi.com/api/episode/2  2017-11-10T12:56:33.916Z  \n",
       "2  https://rickandmortyapi.com/api/episode/3  2017-11-10T12:56:34.022Z  \n",
       "3  https://rickandmortyapi.com/api/episode/4  2017-11-10T12:56:34.129Z  \n",
       "4  https://rickandmortyapi.com/api/episode/5  2017-11-10T12:56:34.236Z  "
      ]
     },
     "execution_count": 13,
     "metadata": {},
     "output_type": "execute_result"
    }
   ],
   "source": [
    "flattened_data = json_normalize(results2)\n",
    "\n",
    "flattened_data1 = json_normalize(flattened_data.results[0])\n",
    "flattened_data1.head()"
   ]
  },
  {
   "cell_type": "code",
   "execution_count": null,
   "id": "4010ae33-e852-4c6e-b16e-d7de3abd140d",
   "metadata": {},
   "outputs": [],
   "source": []
  },
  {
   "cell_type": "code",
   "execution_count": null,
   "id": "40720ac9-7929-4d0c-bab6-28e7f30092fd",
   "metadata": {},
   "outputs": [],
   "source": []
  }
 ],
 "metadata": {
  "kernelspec": {
   "display_name": "Python 3 (ipykernel)",
   "language": "python",
   "name": "python3"
  },
  "language_info": {
   "codemirror_mode": {
    "name": "ipython",
    "version": 3
   },
   "file_extension": ".py",
   "mimetype": "text/x-python",
   "name": "python",
   "nbconvert_exporter": "python",
   "pygments_lexer": "ipython3",
   "version": "3.9.12"
  }
 },
 "nbformat": 4,
 "nbformat_minor": 5
}
